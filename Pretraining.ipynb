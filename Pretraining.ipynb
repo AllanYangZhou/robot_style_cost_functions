{
 "cells": [
  {
   "cell_type": "code",
   "execution_count": 1,
   "metadata": {},
   "outputs": [
    {
     "name": "stderr",
     "output_type": "stream",
     "text": [
      "Using TensorFlow backend.\n"
     ]
    }
   ],
   "source": [
    "import numpy as np\n",
    "import utils\n",
    "import planners\n",
    "from models import CostFunction\n",
    "import constants as c\n",
    "import matplotlib.pyplot as plt\n",
    "import time\n",
    "import trajoptpy.math_utils as mu\n",
    "from planners import feature_height, feature_orientation\n",
    "import random\n",
    "import itertools\n",
    "%matplotlib inline"
   ]
  },
  {
   "cell_type": "code",
   "execution_count": 2,
   "metadata": {
    "collapsed": true
   },
   "outputs": [],
   "source": [
    "env, robot = utils.setup()"
   ]
  },
  {
   "cell_type": "code",
   "execution_count": 3,
   "metadata": {
    "collapsed": true
   },
   "outputs": [],
   "source": [
    "tq = utils.TrainingQueue(maxsize=10000)"
   ]
  },
  {
   "cell_type": "code",
   "execution_count": null,
   "metadata": {
    "scrolled": true
   },
   "outputs": [],
   "source": [
    "cf = CostFunction(robot, num_dofs=21, normalize=True)\n",
    "#cf.load_model('./saves/mlp_allan_pretrained_happy/')\n",
    "custom_cost = {'NN': planners.get_trajopt_cost(cf)}"
   ]
  },
  {
   "cell_type": "code",
   "execution_count": 8,
   "metadata": {
    "collapsed": true
   },
   "outputs": [],
   "source": [
    "robot.SetActiveDOFValues(c.configs[0])"
   ]
  },
  {
   "cell_type": "code",
   "execution_count": 6,
   "metadata": {
    "collapsed": true
   },
   "outputs": [],
   "source": [
    "def cost_height(x):\n",
    "    val = -1. * feature_height(robot, x)\n",
    "    return val\n",
    "def cost_orientation(x):\n",
    "    return -1 * feature_orientation(robot, x)\n",
    "\n",
    "synthetic_costs = {\n",
    "    'height': cost_height,\n",
    "    'orientation': cost_orientation\n",
    "}\n",
    "\n",
    "\n",
    "def synthetic_cost(x):\n",
    "    traj = x[:,:7]\n",
    "    with env:\n",
    "        traj_cost = utils.evaluate_costs(robot, traj, synthetic_costs)\n",
    "    return traj_cost #+ utils.vel_cost(x)\n",
    "\n",
    "\n",
    "def ee_traj_cost(x):\n",
    "    x = x.reshape((10,7))\n",
    "    ee_positions = np.stack([utils.get_ee_coords(robot, wp)\n",
    "                             for wp in x])\n",
    "    ee_cost = np.sum(np.square(np.diff(ee_positions, axis=0)))\n",
    "    return ee_cost\n",
    "    \n",
    "ee_cost = {\n",
    "    'ee_cost': ee_traj_cost\n",
    "}"
   ]
  },
  {
   "cell_type": "code",
   "execution_count": 10,
   "metadata": {
    "collapsed": true
   },
   "outputs": [],
   "source": [
    "for start, goal in c.start_goal_pairs:\n",
    "    linear_init = mu.linspace2d(start, goal, 10)\n",
    "    new_trajs = [linear_init]\n",
    "    for i in range(100):\n",
    "        modified_init = utils.random_init_maker(linear_init)\n",
    "        new_trajs.append(modified_init)\n",
    "    random.shuffle(new_trajs)\n",
    "    for traj in new_trajs:\n",
    "        with env:\n",
    "            wf = utils.world_space_featurizer(robot, traj)\n",
    "        data = np.concatenate([traj, wf], axis=1)\n",
    "        tq.add((data, synthetic_cost(traj)))"
   ]
  },
  {
   "cell_type": "code",
   "execution_count": 9,
   "metadata": {},
   "outputs": [
    {
     "data": {
      "text/plain": [
       "[<matplotlib.lines.Line2D at 0x7fb620fa3790>]"
      ]
     },
     "execution_count": 9,
     "metadata": {},
     "output_type": "execute_result"
    },
    {
     "data": {
      "image/png": "[encoded data removed]",
      "text/plain": [
       "<matplotlib.figure.Figure at 0x7fb623363cd0>"
      ]
     },
     "metadata": {},
     "output_type": "display_data"
    }
   ],
   "source": [
    "loss = []\n",
    "for i in range(4000):\n",
    "    x, y = zip(*tq.sample(num=10))\n",
    "    x = np.stack(x)[:,:,7:]\n",
    "    y = np.stack(y)\n",
    "    loss.append(cf.train_cost(x, y))\n",
    "plt.plot(loss)"
   ]
  },
  {
   "cell_type": "code",
   "execution_count": 20,
   "metadata": {
    "collapsed": true
   },
   "outputs": [],
   "source": [
    "for start, goal in c.start_goal_pairs:\n",
    "    linear_init = mu.linspace2d(start, goal, 10)\n",
    "    new_trajs = [linear_init]\n",
    "    for i in range(10):\n",
    "        modified_init = utils.random_init_maker(linear_init)\n",
    "        new_trajs.append(modified_init)\n",
    "    random.shuffle(new_trajs)\n",
    "    new_data = []\n",
    "    for traj in new_trajs:\n",
    "        with env:\n",
    "            wf = utils.world_space_featurizer(robot, traj)\n",
    "        data = np.concatenate([traj, wf], axis=1)\n",
    "        new_data.append((data, ee_traj_cost(traj)))\n",
    "    for (xA, cA), (xB, cB) in itertools.combinations(new_data, 2):\n",
    "        tq.add(((xA, 10), (xB, 10), cB < cA))"
   ]
  },
  {
   "cell_type": "code",
   "execution_count": null,
   "metadata": {
    "collapsed": true
   },
   "outputs": [],
   "source": [
    "loss = utils.train(cf, tq, epochs=20)\n",
    "plt.plot(loss)"
   ]
  },
  {
   "cell_type": "code",
   "execution_count": 17,
   "metadata": {
    "collapsed": true
   },
   "outputs": [],
   "source": [
    "gan_q = utils.TrainingQueue(maxsize=100)\n",
    "demo_q = utils.TrainingQueue(maxsize=100)"
   ]
  },
  {
   "cell_type": "code",
   "execution_count": 14,
   "metadata": {
    "collapsed": true
   },
   "outputs": [],
   "source": [
    "expert_D = []\n",
    "for i, (start, goal) in enumerate(c.start_goal_pairs):\n",
    "    robot.SetActiveDOFValues(start)\n",
    "    with env:\n",
    "        result = planners.trajopt_simple_plan(env, robot, goal, custom_costs=synthetic_costs, use_joint_vel=True)\n",
    "    expert_D.append(result.GetTraj())"
   ]
  },
  {
   "cell_type": "code",
   "execution_count": 15,
   "metadata": {},
   "outputs": [
    {
     "data": {
      "text/plain": [
       "RaveCreateInterface(RaveGetEnvironment(1),InterfaceType.trajectory,'GenericTrajectory')"
      ]
     },
     "execution_count": 15,
     "metadata": {},
     "output_type": "execute_result"
    }
   ],
   "source": [
    "x = expert_D[0]\n",
    "robot.SetActiveDOFValues(x[0])\n",
    "with env:\n",
    "    traj = utils.waypoints_to_traj(env, robot, x, 0.7, None)\n",
    "robot.ExecuteTrajectory(traj)"
   ]
  },
  {
   "cell_type": "code",
   "execution_count": 18,
   "metadata": {
    "collapsed": true
   },
   "outputs": [],
   "source": [
    "for eD in expert_D:\n",
    "    with env:\n",
    "        data = utils.world_space_featurizer(robot, eD)\n",
    "    data = np.concatenate([eD, data], axis=1)\n",
    "    demo_q.add(data)"
   ]
  },
  {
   "cell_type": "code",
   "execution_count": null,
   "metadata": {
    "collapsed": true
   },
   "outputs": [],
   "source": [
    "for i, (start, goal) in enumerate(c.start_goal_pairs):\n",
    "    start_time = time.time()\n",
    "    robot.SetActiveDOFValues(start)\n",
    "    with env:\n",
    "        results = planners.trajopt_multi_plan(env, robot, goal, custom_traj_costs=custom_cost, num_inits=5, use_joint_vel=False)\n",
    "        elapsed = time.time() - start_time\n",
    "        print('Finished traj planning for iter {:d} in {:.2f}s'.format(i, elapsed))\n",
    "    for result in results:\n",
    "        wps = result.GetTraj()\n",
    "        with env:\n",
    "            data = utils.world_space_featurizer(robot, wps)\n",
    "        data = np.concatenate([wps, data], axis=1)\n",
    "        #label = utils.vel_cost(wps)\n",
    "        gan_q.add(data)"
   ]
  },
  {
   "cell_type": "code",
   "execution_count": 18,
   "metadata": {
    "collapsed": true
   },
   "outputs": [],
   "source": [
    "for i in range(10 * len(gan_q)):\n",
    "    fake = gan_q.sample()\n",
    "    cf.train_gan_cost(fake[:,7:][None], [-1.])\n",
    "    true = demo_q.sample()\n",
    "    cf.train_gan_cost(true[:,7:][None], [1.])"
   ]
  },
  {
   "cell_type": "code",
   "execution_count": 6,
   "metadata": {
    "collapsed": true
   },
   "outputs": [],
   "source": [
    "pairs = [\n",
    "    (0, 1),\n",
    "    (1, 0),\n",
    "    (2, 3),\n",
    "    (3, 2),\n",
    "    (6, 8),\n",
    "    (8, 6)\n",
    "]"
   ]
  },
  {
   "cell_type": "code",
   "execution_count": 7,
   "metadata": {
    "collapsed": true
   },
   "outputs": [],
   "source": [
    "trajs = {}\n",
    "for start, goal in pairs:\n",
    "    robot.SetActiveDOFValues(c.configs[start])\n",
    "    with env:\n",
    "        results_ee = planners.trajopt_simple_plan(env, robot, c.configs[goal], custom_traj_costs=custom_cost)\n",
    "        traj = utils.waypoints_to_traj(env, robot, results_ee.GetTraj(), 0.7, None)\n",
    "    trajs[(start, goal)] = traj"
   ]
  },
  {
   "cell_type": "code",
   "execution_count": 11,
   "metadata": {
    "collapsed": true
   },
   "outputs": [],
   "source": [
    "robot.SetActiveDOFValues(c.configs[6])"
   ]
  },
  {
   "cell_type": "code",
   "execution_count": 12,
   "metadata": {},
   "outputs": [
    {
     "data": {
      "text/plain": [
       "RaveCreateInterface(RaveGetEnvironment(1),InterfaceType.trajectory,'GenericTrajectory')"
      ]
     },
     "execution_count": 12,
     "metadata": {},
     "output_type": "execute_result"
    }
   ],
   "source": [
    "robot.ExecuteTrajectory(trajs[(6,8)])"
   ]
  },
  {
   "cell_type": "code",
   "execution_count": 7,
   "metadata": {},
   "outputs": [
    {
     "data": {
      "text/plain": [
       "RaveCreateInterface(RaveGetEnvironment(1),InterfaceType.trajectory,'GenericTrajectory')"
      ]
     },
     "execution_count": 7,
     "metadata": {},
     "output_type": "execute_result"
    }
   ],
   "source": [
    "robot.SetActiveDOFValues(c.configs[0])\n",
    "\n",
    "with env:\n",
    "    results_nn = planners.trajopt_simple_plan(env, robot, c.configs[1], custom_traj_costs=custom_cost)\n",
    "    traj = utils.waypoints_to_traj(env, robot, results_nn.GetTraj(), 0.7, None)\n",
    "#print(ee_traj_cost(results_nn.GetTraj()))\n",
    "robot.ExecuteTrajectory(traj)"
   ]
  },
  {
   "cell_type": "code",
   "execution_count": 24,
   "metadata": {
    "scrolled": true
   },
   "outputs": [
    {
     "data": {
      "text/plain": [
       "RaveCreateInterface(RaveGetEnvironment(1),InterfaceType.trajectory,'GenericTrajectory')"
      ]
     },
     "execution_count": 24,
     "metadata": {},
     "output_type": "execute_result"
    }
   ],
   "source": [
    "robot.SetActiveDOFValues(c.configs[0])\n",
    "robot.ExecuteTrajectory(traj)"
   ]
  },
  {
   "cell_type": "code",
   "execution_count": 25,
   "metadata": {},
   "outputs": [
    {
     "name": "stdout",
     "output_type": "stream",
     "text": [
      "0.281132923048\n"
     ]
    },
    {
     "data": {
      "text/plain": [
       "RaveCreateInterface(RaveGetEnvironment(1),InterfaceType.trajectory,'GenericTrajectory')"
      ]
     },
     "execution_count": 25,
     "metadata": {},
     "output_type": "execute_result"
    }
   ],
   "source": [
    "robot.SetActiveDOFValues(c.configs[0])\n",
    "\n",
    "with env:\n",
    "    results_default = planners.trajopt_simple_plan(env, robot, c.configs[1])\n",
    "    traj = utils.waypoints_to_traj(env, robot, results_default.GetTraj(), 0.7, None)\n",
    "print(ee_traj_cost(results_default.GetTraj()))\n",
    "robot.ExecuteTrajectory(traj)"
   ]
  },
  {
   "cell_type": "code",
   "execution_count": 27,
   "metadata": {
    "collapsed": true
   },
   "outputs": [],
   "source": [
    "cf.save_model('./saves/mlp_ee_cost_pretrained/')"
   ]
  },
  {
   "cell_type": "code",
   "execution_count": null,
   "metadata": {
    "collapsed": true
   },
   "outputs": [],
   "source": []
  }
 ],
 "metadata": {
  "kernelspec": {
   "display_name": "tensorflow_python2",
   "language": "python",
   "name": "tensorflow_python2"
  },
  "language_info": {
   "codemirror_mode": {
    "name": "ipython",
    "version": 2
   },
   "file_extension": ".py",
   "mimetype": "text/x-python",
   "name": "python",
   "nbconvert_exporter": "python",
   "pygments_lexer": "ipython2",
   "version": "2.7.12"
  }
 },
 "nbformat": 4,
 "nbformat_minor": 2
}
