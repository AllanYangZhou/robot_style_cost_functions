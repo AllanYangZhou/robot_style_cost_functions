{
 "cells": [
  {
   "cell_type": "markdown",
   "metadata": {},
   "source": [
    "3. Set up iterative synthetic training (each cf should see slightly different training data, though might not be necessary due to dropout)\n",
    "4. Try learning the whole cost fxn, or adjusting weights with vel cost"
   ]
  },
  {
   "cell_type": "code",
   "execution_count": 1,
   "metadata": {},
   "outputs": [
    {
     "name": "stderr",
     "output_type": "stream",
     "text": [
      "Using TensorFlow backend.\n"
     ]
    }
   ],
   "source": [
    "import numpy as np\n",
    "from models import CostFunction\n",
    "import matplotlib.pyplot as plt\n",
    "import pickle\n",
    "import tensorflow as tf\n",
    "import utils\n",
    "import constants as c\n",
    "import planners\n",
    "from planners import feature_height, feature_orientation\n",
    "import itertools\n",
    "from keras import backend as K\n",
    "import openravepy as orpy\n",
    "import json\n",
    "%matplotlib inline"
   ]
  },
  {
   "cell_type": "code",
   "execution_count": 2,
   "metadata": {
    "collapsed": true
   },
   "outputs": [],
   "source": [
    "env, robot = utils.setup()"
   ]
  },
  {
   "cell_type": "code",
   "execution_count": 5,
   "metadata": {
    "collapsed": true
   },
   "outputs": [],
   "source": [
    "robot.SetActiveDOFValues(c.configs[5])"
   ]
  },
  {
   "cell_type": "code",
   "execution_count": null,
   "metadata": {
    "collapsed": true
   },
   "outputs": [],
   "source": [
    "approved = []\n",
    "for i, (start, goal) in enumerate(c.start_goal_pairs):\n",
    "    robot.SetActiveDOFValues(start)\n",
    "    with env:\n",
    "        res = planners.trajopt_simple_plan(env, robot, goal)\n",
    "        traj = utils.waypoints_to_traj(env, robot, res.GetTraj(), 1, None)\n",
    "    robot.ExecuteTrajectory(traj)\n",
    "    ans = raw_input()\n",
    "    if ans == 'yes':\n",
    "        approved.append(i)\n",
    "        print('Approved')"
   ]
  },
  {
   "cell_type": "code",
   "execution_count": 3,
   "metadata": {
    "collapsed": true
   },
   "outputs": [],
   "source": [
    "with open('./data/world_space_trajs.pkl', 'rb') as f:\n",
    "    data = pickle.load(f)\n",
    "    with env:\n",
    "        wf = np.stack([utils.world_space_featurizer(robot, wps) for wps in data])\n",
    "    data = np.concatenate([data, wf], axis=-1)\n",
    "#data_times = np.ones((data.shape[0], 10))\n",
    "#data = np.insert(data, 7, data_times, axis=-1)"
   ]
  },
  {
   "cell_type": "code",
   "execution_count": 4,
   "metadata": {
    "collapsed": true
   },
   "outputs": [],
   "source": [
    "wps = data[0][:,:7]"
   ]
  },
  {
   "cell_type": "code",
   "execution_count": 4,
   "metadata": {
    "collapsed": true
   },
   "outputs": [],
   "source": [
    "traj = utils.waypoints_to_traj(env, robot, wps, 0.5, None)"
   ]
  },
  {
   "cell_type": "code",
   "execution_count": 8,
   "metadata": {},
   "outputs": [
    {
     "data": {
      "text/plain": [
       "RaveCreateInterface(RaveGetEnvironment(1),InterfaceType.trajectory,'GenericTrajectory')"
      ]
     },
     "execution_count": 8,
     "metadata": {},
     "output_type": "execute_result"
    }
   ],
   "source": [
    "robot.ExecuteTrajectory(traj)"
   ]
  },
  {
   "cell_type": "code",
   "execution_count": 4,
   "metadata": {
    "collapsed": true
   },
   "outputs": [],
   "source": [
    "with env:\n",
    "    default_traj = planners.trajopt_simple_plan(env, robot, c.configs[1])\n",
    "    traj = utils.waypoints_to_traj(env, robot, default_traj.GetTraj(), 0.5, None)"
   ]
  },
  {
   "cell_type": "code",
   "execution_count": 5,
   "metadata": {},
   "outputs": [
    {
     "data": {
      "text/plain": [
       "RaveCreateInterface(RaveGetEnvironment(1),InterfaceType.trajectory,'GenericTrajectory')"
      ]
     },
     "execution_count": 5,
     "metadata": {},
     "output_type": "execute_result"
    }
   ],
   "source": [
    "robot.ExecuteTrajectory(traj)"
   ]
  },
  {
   "cell_type": "code",
   "execution_count": 4,
   "metadata": {
    "collapsed": true
   },
   "outputs": [],
   "source": [
    "cf = CostFunction(robot, num_dofs=21) #use_total_duration=True)\n",
    "#cf.load_model('./data/saves/sad_weight_time.cpkt')\n",
    "custom_cost = {'NN': planners.get_trajopt_cost(cf)}"
   ]
  },
  {
   "cell_type": "code",
   "execution_count": 6,
   "metadata": {
    "collapsed": true
   },
   "outputs": [],
   "source": [
    "robot.SetActiveDOFValues(c.configs[0])"
   ]
  },
  {
   "cell_type": "code",
   "execution_count": 7,
   "metadata": {
    "collapsed": true
   },
   "outputs": [],
   "source": [
    "def cost_height(x):\n",
    "    val = 1 * feature_height(robot, x)\n",
    "    return val\n",
    "def cost_orientation(x):\n",
    "    return .05 * feature_orientation(robot, x)\n",
    "def time_cost(x):\n",
    "    time = np.sum(x[:,7])\n",
    "    desired_time = 10\n",
    "    return (time - desired_time)**2\n",
    "\n",
    "synthetic_costs = {\n",
    "    'height': cost_height,\n",
    "    'orientation': cost_orientation\n",
    "}\n",
    "\n",
    "def synthetic_cost(x):\n",
    "    traj = x[:,:7]\n",
    "    with env:\n",
    "        traj_cost = utils.evaluate_costs(robot, traj, synthetic_costs)\n",
    "    traj_cost #+= time_cost(x)\n",
    "    return traj_cost\n",
    "synthetic_label = utils.synthetic_label_func(synthetic_cost)"
   ]
  },
  {
   "cell_type": "code",
   "execution_count": 8,
   "metadata": {
    "collapsed": true
   },
   "outputs": [],
   "source": [
    "with env:\n",
    "    synthetic = planners.trajopt_simple_plan(env, robot, c.configs[1], custom_costs=synthetic_costs).GetTraj()\n",
    "    synthetic_traj = utils.waypoints_to_traj(env, robot, synthetic, 10, None)"
   ]
  },
  {
   "cell_type": "code",
   "execution_count": 9,
   "metadata": {
    "collapsed": true
   },
   "outputs": [],
   "source": [
    "def train(tq, epochs=5):\n",
    "    for i in range(epochs * len(tq)):\n",
    "        (xA, timeA), (xB, timeB), label = tq.sample()\n",
    "        tA, tB = xA[:,7:], xB[:,7:]\n",
    "        cf.train(tA[None], tB[None], [int(label)], total_time=(timeA, timeB))"
   ]
  },
  {
   "cell_type": "code",
   "execution_count": 10,
   "metadata": {
    "collapsed": true
   },
   "outputs": [],
   "source": [
    "data_q = utils.TrainingQueue(maxsize=100)\n",
    "for i in range(data.shape[0] / 2):\n",
    "    data_q.add(data[i])\n",
    "training_q = utils.TrainingQueue(maxsize=10000)\n",
    "time_q = utils.TrainingQueue(maxsize=3000)"
   ]
  },
  {
   "cell_type": "code",
   "execution_count": 11,
   "metadata": {
    "collapsed": true
   },
   "outputs": [],
   "source": [
    "for i in range(10):\n",
    "    #time_ratio = 0.5 if i > 5 else 0\n",
    "    time_ratio = 0.\n",
    "    utils.get_labels(cf, data_q, training_q, synthetic_label, num_samples=40, time_ratio=time_ratio, adaptive_timing=False)\n",
    "    #train(training_q, epochs=15)\n",
    "    #train(time_q, epochs=10)\n",
    "    #with env:\n",
    "    #    results = planners.trajopt_multi_plan(env, robot, c.configs[1], custom_traj_costs=custom_cost, num_inits=20)\n",
    "    #    features = [np.concatenate([res.GetTraj(), utils.world_space_featurizer(robot, res.GetTraj())], axis=1) for res in results]\n",
    "    #data_q.extend(features)"
   ]
  },
  {
   "cell_type": "code",
   "execution_count": 12,
   "metadata": {
    "collapsed": true
   },
   "outputs": [],
   "source": [
    "for i in range(1):\n",
    "    utils.get_labels(cf, data_q, training_q, synthetic_label, num_samples=100, time_ratio=1, adaptive_timing=False)\n",
    "    train(training_q, epochs=20)"
   ]
  },
  {
   "cell_type": "code",
   "execution_count": 17,
   "metadata": {
    "collapsed": true
   },
   "outputs": [],
   "source": [
    "a = training_q.sample()"
   ]
  },
  {
   "cell_type": "code",
   "execution_count": 13,
   "metadata": {
    "collapsed": true
   },
   "outputs": [],
   "source": [
    "true_costs = []\n",
    "test_trajs = []\n",
    "with env:\n",
    "    for i in range(200):\n",
    "        idx = np.random.choice(data.shape[0] / 2) + (data.shape[0] / 2)\n",
    "        test_trajs.append(data[idx][:,7:])\n",
    "        true_costs.append(synthetic_cost(data[idx]))\n",
    "true_costs = np.array(true_costs)\n",
    "test_trajs = np.stack(test_trajs)"
   ]
  },
  {
   "cell_type": "code",
   "execution_count": 14,
   "metadata": {},
   "outputs": [
    {
     "data": {
      "text/plain": [
       "0.12288076174563491"
      ]
     },
     "execution_count": 14,
     "metadata": {},
     "output_type": "execute_result"
    }
   ],
   "source": [
    "cf.corrcoef(test_trajs, true_costs)"
   ]
  },
  {
   "cell_type": "code",
   "execution_count": 23,
   "metadata": {
    "collapsed": true
   },
   "outputs": [],
   "source": [
    "robot.SetActiveDOFValues(c.configs[2])"
   ]
  },
  {
   "cell_type": "code",
   "execution_count": 21,
   "metadata": {
    "collapsed": true
   },
   "outputs": [],
   "source": [
    "with env:\n",
    "    results = planners.trajopt_simple_plan(env, robot, c.configs[1], custom_traj_costs=custom_cost)"
   ]
  },
  {
   "cell_type": "code",
   "execution_count": 22,
   "metadata": {
    "collapsed": true
   },
   "outputs": [],
   "source": [
    "with env:\n",
    "    traj = utils.waypoints_to_traj(env, robot, results.GetTraj(), 10, None)"
   ]
  },
  {
   "cell_type": "code",
   "execution_count": null,
   "metadata": {
    "collapsed": true
   },
   "outputs": [],
   "source": [
    "robot.ExecuteTrajectory(traj)"
   ]
  },
  {
   "cell_type": "code",
   "execution_count": 24,
   "metadata": {
    "collapsed": true
   },
   "outputs": [],
   "source": [
    "with env:\n",
    "    results = planners.trajopt_multi_plan(env, robot, c.configs[3], custom_traj_costs=custom_cost, num_inits=20)\n",
    "costs = []\n",
    "for res in results:\n",
    "    with env:\n",
    "        wf = utils.world_space_featurizer(robot, res.GetTraj())\n",
    "    costs.append(cf.cost_traj(wf))\n",
    "opt_res = results[np.argmin(costs)]\n",
    "with env:\n",
    "    traj = utils.waypoints_to_traj(env, robot, opt_res.GetTraj(), 10, None)"
   ]
  },
  {
   "cell_type": "code",
   "execution_count": 25,
   "metadata": {},
   "outputs": [
    {
     "data": {
      "text/plain": [
       "RaveCreateInterface(RaveGetEnvironment(1),InterfaceType.trajectory,'GenericTrajectory')"
      ]
     },
     "execution_count": 25,
     "metadata": {},
     "output_type": "execute_result"
    }
   ],
   "source": [
    "robot.ExecuteTrajectory(traj)"
   ]
  },
  {
   "cell_type": "code",
   "execution_count": 20,
   "metadata": {},
   "outputs": [
    {
     "data": {
      "text/plain": [
       "[<matplotlib.lines.Line2D at 0x7feda3630590>]"
      ]
     },
     "execution_count": 20,
     "metadata": {},
     "output_type": "execute_result"
    },
    {
     "data": {
      "image/png": "[encoded data removed]",
      "text/plain": [
       "<matplotlib.figure.Figure at 0x7feda36d7d10>"
      ]
     },
     "metadata": {},
     "output_type": "display_data"
    }
   ],
   "source": [
    "costs = cf.naive_time_opt(opt_res.GetTraj(), return_costs=True)\n",
    "plt.title('NN cost vs total time for the same path. Synthetic cost: (T-5)^2')\n",
    "plt.xlabel('Total time in seconds')\n",
    "plt.ylabel('NN Cost')\n",
    "plt.plot(costs)"
   ]
  },
  {
   "cell_type": "code",
   "execution_count": 14,
   "metadata": {
    "collapsed": true
   },
   "outputs": [],
   "source": [
    "with env:\n",
    "    results = planners.trajopt_multi_plan(env, robot, c.configs[1], custom_traj_costs=custom_cost, num_inits=20)"
   ]
  },
  {
   "cell_type": "code",
   "execution_count": 15,
   "metadata": {
    "collapsed": true
   },
   "outputs": [],
   "source": [
    "for res in results:\n",
    "    robot.SetActiveDOFValues(c.configs[0])\n",
    "    with env:\n",
    "        waypoints = res.GetTraj()\n",
    "        traj = utils.waypoints_to_traj(env, robot, waypoints, 10, None)\n",
    "    robot.ExecuteTrajectory(traj)"
   ]
  },
  {
   "cell_type": "markdown",
   "metadata": {},
   "source": [
    "## Different configs"
   ]
  },
  {
   "cell_type": "code",
   "execution_count": 19,
   "metadata": {
    "collapsed": true
   },
   "outputs": [],
   "source": [
    "robot.SetActiveDOFValues(c.configs[3])"
   ]
  },
  {
   "cell_type": "code",
   "execution_count": 22,
   "metadata": {
    "collapsed": true
   },
   "outputs": [],
   "source": [
    "with env:\n",
    "    res = planners.trajopt_simple_plan(env, robot, c.configs[2])\n",
    "    waypoints = res.GetTraj()\n",
    "    traj = utils.waypoints_to_traj(env, robot, waypoints, 10, None)"
   ]
  },
  {
   "cell_type": "code",
   "execution_count": 25,
   "metadata": {},
   "outputs": [
    {
     "data": {
      "text/plain": [
       "RaveCreateInterface(RaveGetEnvironment(1),InterfaceType.trajectory,'GenericTrajectory')"
      ]
     },
     "execution_count": 25,
     "metadata": {},
     "output_type": "execute_result"
    }
   ],
   "source": [
    "robot.ExecuteTrajectory(traj)"
   ]
  },
  {
   "cell_type": "markdown",
   "metadata": {},
   "source": [
    "## Time optimization"
   ]
  },
  {
   "cell_type": "code",
   "execution_count": 26,
   "metadata": {
    "collapsed": true
   },
   "outputs": [],
   "source": [
    "world_features = utils.world_space_featurizer(robot, waypoints)"
   ]
  },
  {
   "cell_type": "code",
   "execution_count": 27,
   "metadata": {
    "collapsed": true
   },
   "outputs": [],
   "source": [
    "optim = np.concatenate([1.5 * np.ones(10)[:,None], world_features], axis=1)"
   ]
  },
  {
   "cell_type": "code",
   "execution_count": 28,
   "metadata": {},
   "outputs": [
    {
     "name": "stdout",
     "output_type": "stream",
     "text": [
      "INFO:tensorflow:Optimization terminated with:\n",
      "  Message: CONVERGENCE: NORM_OF_PROJECTED_GRADIENT_<=_PGTOL\n",
      "  Objective function value: 0.118207\n",
      "  Number of iterations: 15\n",
      "  Number of functions evaluations: 16\n"
     ]
    }
   ],
   "source": [
    "time_deltas = cf.optimize_timing(world_features)"
   ]
  },
  {
   "cell_type": "code",
   "execution_count": 29,
   "metadata": {},
   "outputs": [
    {
     "data": {
      "text/plain": [
       "array([ 0.1       ,  0.1       ,  0.1       ,  0.1       ,  0.48687705,\n",
       "        0.1       ,  5.01334286,  2.05080271,  1.74623322,  0.1       ], dtype=float32)"
      ]
     },
     "execution_count": 29,
     "metadata": {},
     "output_type": "execute_result"
    }
   ],
   "source": [
    "time_deltas"
   ]
  },
  {
   "cell_type": "code",
   "execution_count": 30,
   "metadata": {},
   "outputs": [
    {
     "data": {
      "text/plain": [
       "array(0.12200494855642319, dtype=float32)"
      ]
     },
     "execution_count": 30,
     "metadata": {},
     "output_type": "execute_result"
    }
   ],
   "source": [
    "cf.cost_traj(optim)"
   ]
  },
  {
   "cell_type": "code",
   "execution_count": null,
   "metadata": {
    "collapsed": true
   },
   "outputs": [],
   "source": []
  }
 ],
 "metadata": {
  "kernelspec": {
   "display_name": "tensorflow_python2",
   "language": "python",
   "name": "tensorflow_python2"
  },
  "language_info": {
   "codemirror_mode": {
    "name": "ipython",
    "version": 2
   },
   "file_extension": ".py",
   "mimetype": "text/x-python",
   "name": "python",
   "nbconvert_exporter": "python",
   "pygments_lexer": "ipython2",
   "version": "2.7.12"
  }
 },
 "nbformat": 4,
 "nbformat_minor": 2
}
