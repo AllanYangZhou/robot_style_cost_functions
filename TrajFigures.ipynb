{
 "cells": [
  {
   "cell_type": "code",
   "execution_count": 1,
   "metadata": {},
   "outputs": [],
   "source": [
    "import numpy as np\n",
    "import utils\n",
    "import constants as c\n",
    "import matplotlib.pyplot as plt\n",
    "import pickle\n",
    "import openravepy as orpy\n",
    "%matplotlib inline"
   ]
  },
  {
   "cell_type": "code",
   "execution_count": 2,
   "metadata": {},
   "outputs": [],
   "source": [
    "env, robot, robot2 = utils.setup(two_robots=True)\n",
    "robot2.SetTransform(np.eye(4))\n",
    "box = env.GetKinBody('box1')\n",
    "viewer = env.GetViewer()\n",
    "camera_T = np.array([[-0.94278671, -0.04925967,  0.32973734, -1.0442493 ],\n",
    "       [-0.32941775,  0.2899759 , -0.89855324,  2.66972971],\n",
    "       [-0.05135344, -0.95576538, -0.28961244,  1.23215127],\n",
    "       [ 0.        ,  0.        ,  0.        ,  1.        ]])\n",
    "\n",
    "viewer.SetCamera(camera_T)"
   ]
  },
  {
   "cell_type": "code",
   "execution_count": 30,
   "metadata": {},
   "outputs": [],
   "source": [
    "res0 = np.load('./exp_trajs/basic_sad_nn.npy')\n",
    "res1 = np.load('./exp_trajs/basic_sad_synthetic.npy')\n",
    "res2 = np.load('./exp_trajs/handover_sad_synthetic.npy')"
   ]
  },
  {
   "cell_type": "code",
   "execution_count": 22,
   "metadata": {},
   "outputs": [],
   "source": [
    "robot.SetActiveDOFValues(res0[0])\n",
    "robot2.SetActiveDOFValues(res0[-1])"
   ]
  },
  {
   "cell_type": "code",
   "execution_count": 23,
   "metadata": {},
   "outputs": [],
   "source": [
    "links=robot.GetLinks()\n",
    "\n",
    "for link in links:\n",
    "    g = link.GetGeometries()\n",
    "    for gi in g:\n",
    "        gi.SetTransparency(0.7)\n",
    "\n",
    "box.GetLinks()[0].GetGeometries()[0].SetTransparency(.7)"
   ]
  },
  {
   "cell_type": "code",
   "execution_count": 31,
   "metadata": {},
   "outputs": [],
   "source": [
    "graph0 = utils.plot_waypoints(env, robot, res0, color='#4bacc6')"
   ]
  },
  {
   "cell_type": "code",
   "execution_count": 32,
   "metadata": {
    "collapsed": true
   },
   "outputs": [],
   "source": [
    "graph1 = utils.plot_waypoints(env, robot, res1, color='#f79646')"
   ]
  },
  {
   "cell_type": "code",
   "execution_count": 8,
   "metadata": {
    "collapsed": true
   },
   "outputs": [],
   "source": [
    "graph2 = utils.plot_waypoints(env, robot, res2, color='#f79646')"
   ]
  },
  {
   "cell_type": "code",
   "execution_count": 28,
   "metadata": {
    "collapsed": true
   },
   "outputs": [],
   "source": [
    "graph0.Close()"
   ]
  },
  {
   "cell_type": "code",
   "execution_count": 29,
   "metadata": {
    "collapsed": true
   },
   "outputs": [],
   "source": [
    "graph1.Close()"
   ]
  },
  {
   "cell_type": "code",
   "execution_count": 11,
   "metadata": {
    "collapsed": true
   },
   "outputs": [],
   "source": [
    "graph2.Close()"
   ]
  },
  {
   "cell_type": "code",
   "execution_count": null,
   "metadata": {
    "collapsed": true
   },
   "outputs": [],
   "source": []
  }
 ],
 "metadata": {
  "kernelspec": {
   "display_name": "tensorflow_python2",
   "language": "python",
   "name": "tensorflow_python2"
  },
  "language_info": {
   "codemirror_mode": {
    "name": "ipython",
    "version": 2
   },
   "file_extension": ".py",
   "mimetype": "text/x-python",
   "name": "python",
   "nbconvert_exporter": "python",
   "pygments_lexer": "ipython2",
   "version": "2.7.12"
  }
 },
 "nbformat": 4,
 "nbformat_minor": 2
}
