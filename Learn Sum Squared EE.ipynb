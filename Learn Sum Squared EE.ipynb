{
 "cells": [
  {
   "cell_type": "code",
   "execution_count": 1,
   "metadata": {},
   "outputs": [
    {
     "name": "stderr",
     "output_type": "stream",
     "text": [
      "Using TensorFlow backend.\n"
     ]
    }
   ],
   "source": [
    "import numpy as np\n",
    "import utils\n",
    "import planners\n",
    "from models import CostFunction\n",
    "import constants as c\n",
    "import matplotlib.pyplot as plt\n",
    "from planners import feature_height, feature_orientation\n",
    "import random\n",
    "import pickle\n",
    "import tensorflow as tf\n",
    "%matplotlib inline"
   ]
  },
  {
   "cell_type": "code",
   "execution_count": 2,
   "metadata": {
    "collapsed": true
   },
   "outputs": [],
   "source": [
    "env, robot = utils.setup()"
   ]
  },
  {
   "cell_type": "code",
   "execution_count": 3,
   "metadata": {
    "scrolled": true
   },
   "outputs": [
    {
     "name": "stdout",
     "output_type": "stream",
     "text": [
      "INFO:tensorflow:Restoring parameters from ./saves/learned_ee_cost/\n"
     ]
    }
   ],
   "source": [
    "cf = CostFunction(robot, num_dofs=7, normalize=True)\n",
    "#cf.load_model('./saves/pretrained_ee_random/')\n",
    "cf.load_model('./saves/learned_ee_cost/')\n",
    "custom_cost = {'NN': planners.get_trajopt_error_cost(cf)}"
   ]
  },
  {
   "cell_type": "code",
   "execution_count": 4,
   "metadata": {
    "collapsed": true
   },
   "outputs": [],
   "source": [
    "def ee_traj_cost(x):\n",
    "    x = x.reshape((10,7))\n",
    "    ee_positions = np.stack([utils.get_ee_coords(robot, wp)\n",
    "                             for wp in x])\n",
    "    ee_cost = np.sum(np.square(np.diff(ee_positions, axis=0)))\n",
    "    return ee_cost\n",
    "\n",
    "ee_cost = {\n",
    "    'ee_cost': ee_traj_cost\n",
    "}"
   ]
  },
  {
   "cell_type": "markdown",
   "metadata": {},
   "source": [
    "## Random pretraining"
   ]
  },
  {
   "cell_type": "code",
   "execution_count": 5,
   "metadata": {
    "collapsed": true
   },
   "outputs": [],
   "source": [
    "loss = []\n",
    "for i in range(10000):\n",
    "    x = np.random.uniform(0, 2*np.pi, size=(2, 10, 7))\n",
    "    with env:\n",
    "        loss.append(cf.train_pref(x[0:1], x[1:], [\n",
    "            ee_traj_cost(x[1]) > ee_traj_cost(x[0])]))"
   ]
  },
  {
   "cell_type": "code",
   "execution_count": 6,
   "metadata": {},
   "outputs": [
    {
     "data": {
      "text/plain": [
       "[<matplotlib.lines.Line2D at 0x7fb79e127510>]"
      ]
     },
     "execution_count": 6,
     "metadata": {},
     "output_type": "execute_result"
    },
    {
     "data": {
      "image/png": "[encoded data removed]",
      "text/plain": [
       "<matplotlib.figure.Figure at 0x7fb79e1abe90>"
      ]
     },
     "metadata": {},
     "output_type": "display_data"
    }
   ],
   "source": [
    "plt.plot(loss)"
   ]
  },
  {
   "cell_type": "code",
   "execution_count": 7,
   "metadata": {
    "collapsed": true
   },
   "outputs": [],
   "source": [
    "cf.save_model('./saves/pretrained_ee_random/')"
   ]
  },
  {
   "cell_type": "markdown",
   "metadata": {},
   "source": [
    "## Generate Demos"
   ]
  },
  {
   "cell_type": "code",
   "execution_count": 5,
   "metadata": {
    "collapsed": true
   },
   "outputs": [],
   "source": [
    "'''\n",
    "demos = {}\n",
    "for start_idx, goal_idx in c.sg_test_idcs:\n",
    "    with env:\n",
    "        robot.SetActiveDOFValues(c.configs[start_idx])\n",
    "        wps = planners.trajopt_simple_plan(\n",
    "            env, robot, c.configs[goal_idx],\n",
    "            custom_traj_costs=ee_cost, joint_vel_coeff=0).GetTraj()\n",
    "        demos[(start_idx,goal_idx)] = wps\n",
    "        print('Finished generating for start {:d} and end {:d}'.format(start_idx, goal_idx))\n",
    "with open('./data/min_ee_disp_demos.pkl', 'wb') as f:\n",
    "    pickle.dump(demos2, f)\n",
    "'''\n",
    "with open('./data/min_ee_disp_demos.pkl', 'rb') as f:\n",
    "    demos = pickle.load(f)"
   ]
  },
  {
   "cell_type": "markdown",
   "metadata": {},
   "source": [
    "## Adaptive training"
   ]
  },
  {
   "cell_type": "code",
   "execution_count": 6,
   "metadata": {},
   "outputs": [
    {
     "data": {
      "text/plain": [
       "0.11890144382466548"
      ]
     },
     "execution_count": 6,
     "metadata": {},
     "output_type": "execute_result"
    }
   ],
   "source": [
    "np.mean([ee_traj_cost(demos[key]) for key in demos])"
   ]
  },
  {
   "cell_type": "code",
   "execution_count": 7,
   "metadata": {
    "scrolled": true
   },
   "outputs": [
    {
     "name": "stdout",
     "output_type": "stream",
     "text": [
      "0: 19.5006\n",
      "1: 0.4199\n",
      "2: 0.7607\n",
      "3: 0.6522\n",
      "4: 0.2505\n",
      "5: 0.2339\n",
      "6: 0.1831\n",
      "7: 0.1888\n",
      "8: 0.1378\n",
      "9: 0.1167\n"
     ]
    }
   ],
   "source": [
    "loss_history = []\n",
    "tq = utils.TrainingQueue(maxsize=100)\n",
    "#prev_results = {}\n",
    "for i in range(10):\n",
    "    results = []\n",
    "    with env:\n",
    "        losses = []\n",
    "        for idcs in c.sg_test_idcs:\n",
    "            start_idx, goal_idx = idcs\n",
    "            robot.SetActiveDOFValues(c.configs[start_idx])\n",
    "            #init = prev_results[idcs] if idcs in prev_results else None\n",
    "            wps = planners.trajopt_simple_plan(\n",
    "                env, robot, c.configs[goal_idx],\n",
    "                custom_traj_costs=custom_cost,\n",
    "                joint_vel_coeff=0).GetTraj()\n",
    "            #prev_results[idcs] = wps\n",
    "            losses.append(ee_traj_cost(wps))\n",
    "            cf.train_pref(demos[idcs][None], wps[None], [0])\n",
    "            tq.add((idcs, wps))\n",
    "        loss_history.append(np.mean(losses))\n",
    "    for j in range(10 * len(tq)):\n",
    "        offset = np.zeros((10, 7))\n",
    "        offset[:,0] += np.random.uniform(0, 2*np.pi)\n",
    "        idcs, wps = tq.sample()\n",
    "        A = np.mod(demos[idcs] + offset, 2*np.pi)\n",
    "        B = np.mod(wps + offset, 2*np.pi)\n",
    "        cf.train_pref(A[None], B[None], [0])\n",
    "    print('{:d}: {:.4f}'.format(i, loss_history[-1]))"
   ]
  },
  {
   "cell_type": "code",
   "execution_count": 8,
   "metadata": {
    "collapsed": true
   },
   "outputs": [],
   "source": [
    "cf.save_model('./saves/learned_ee_cost/')"
   ]
  },
  {
   "cell_type": "code",
   "execution_count": 19,
   "metadata": {
    "collapsed": true
   },
   "outputs": [],
   "source": [
    "robot.SetActiveDOFValues(c.configs[0])"
   ]
  },
  {
   "cell_type": "code",
   "execution_count": 5,
   "metadata": {
    "collapsed": true
   },
   "outputs": [],
   "source": [
    "with env:\n",
    "    wps = planners.trajopt_simple_plan(\n",
    "        env, robot, c.configs[1],\n",
    "        custom_traj_costs=custom_cost,\n",
    "        joint_vel_coeff=0).GetTraj()"
   ]
  },
  {
   "cell_type": "code",
   "execution_count": 10,
   "metadata": {
    "collapsed": true
   },
   "outputs": [],
   "source": [
    "traj = utils.waypoints_to_traj(env, robot, wps, 1, None)"
   ]
  },
  {
   "cell_type": "code",
   "execution_count": 13,
   "metadata": {},
   "outputs": [
    {
     "data": {
      "text/plain": [
       "RaveCreateInterface(RaveGetEnvironment(1),InterfaceType.trajectory,'GenericTrajectory')"
      ]
     },
     "execution_count": 13,
     "metadata": {},
     "output_type": "execute_result"
    }
   ],
   "source": [
    "robot.ExecuteTrajectory(traj)"
   ]
  },
  {
   "cell_type": "code",
   "execution_count": 7,
   "metadata": {
    "collapsed": true
   },
   "outputs": [],
   "source": [
    "with env:\n",
    "    wps_default = planners.trajopt_simple_plan(\n",
    "        env, robot, c.configs[1],\n",
    "        custom_traj_costs=ee_cost,\n",
    "        joint_vel_coeff=0).GetTraj()"
   ]
  },
  {
   "cell_type": "code",
   "execution_count": 10,
   "metadata": {},
   "outputs": [
    {
     "data": {
      "text/plain": [
       "array(29.701122283935547, dtype=float32)"
      ]
     },
     "execution_count": 10,
     "metadata": {},
     "output_type": "execute_result"
    }
   ],
   "source": [
    "cf.get_traj_cost(wps[None])"
   ]
  },
  {
   "cell_type": "code",
   "execution_count": 9,
   "metadata": {},
   "outputs": [
    {
     "data": {
      "text/plain": [
       "array(44.3814811706543, dtype=float32)"
      ]
     },
     "execution_count": 9,
     "metadata": {},
     "output_type": "execute_result"
    }
   ],
   "source": [
    "cf.get_traj_cost(wps_default[None])"
   ]
  },
  {
   "cell_type": "code",
   "execution_count": 6,
   "metadata": {},
   "outputs": [
    {
     "data": {
      "text/plain": [
       "0.37003717076832193"
      ]
     },
     "execution_count": 6,
     "metadata": {},
     "output_type": "execute_result"
    }
   ],
   "source": [
    "ee_traj_cost(wps)"
   ]
  },
  {
   "cell_type": "code",
   "execution_count": 11,
   "metadata": {},
   "outputs": [
    {
     "data": {
      "text/plain": [
       "0.20585611278831784"
      ]
     },
     "execution_count": 11,
     "metadata": {},
     "output_type": "execute_result"
    }
   ],
   "source": [
    "ee_traj_cost(wps_default)"
   ]
  }
 ],
 "metadata": {
  "kernelspec": {
   "display_name": "tensorflow_python2",
   "language": "python",
   "name": "tensorflow_python2"
  },
  "language_info": {
   "codemirror_mode": {
    "name": "ipython",
    "version": 2
   },
   "file_extension": ".py",
   "mimetype": "text/x-python",
   "name": "python",
   "nbconvert_exporter": "python",
   "pygments_lexer": "ipython2",
   "version": "2.7.12"
  }
 },
 "nbformat": 4,
 "nbformat_minor": 2
}
