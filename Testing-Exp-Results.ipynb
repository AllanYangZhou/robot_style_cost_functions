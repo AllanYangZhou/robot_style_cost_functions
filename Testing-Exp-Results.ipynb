{
 "cells": [
  {
   "cell_type": "code",
   "execution_count": 2,
   "metadata": {},
   "outputs": [],
   "source": [
    "import numpy as np\n",
    "import utils\n",
    "import planners\n",
    "from models import CostFunction\n",
    "import constants as c\n",
    "import matplotlib.pyplot as plt\n",
    "import time\n",
    "import trajoptpy.math_utils as mu\n",
    "import random\n",
    "import itertools\n",
    "import pickle\n",
    "%matplotlib inline"
   ]
  },
  {
   "cell_type": "code",
   "execution_count": 3,
   "metadata": {
    "collapsed": true
   },
   "outputs": [],
   "source": [
    "env, robot = utils.setup()"
   ]
  },
  {
   "cell_type": "code",
   "execution_count": 4,
   "metadata": {
    "collapsed": true
   },
   "outputs": [],
   "source": [
    "files = {\n",
    "    'happy': 'allan_happy_rotation_1',\n",
    "    'sad': 'allan_sad_2',\n",
    "    'hesitant': 'allan_hesitant_rotation_1'\n",
    "}\n",
    "style = 'hesitant'"
   ]
  },
  {
   "cell_type": "code",
   "execution_count": 4,
   "metadata": {
    "scrolled": true
   },
   "outputs": [
    {
     "name": "stdout",
     "output_type": "stream",
     "text": [
      "INFO:tensorflow:Restoring parameters from ./saves/experiments/allan_hesitant_rotation_1/\n"
     ]
    }
   ],
   "source": [
    "cf = CostFunction(robot, num_dofs=7, normalize=True)\n",
    "cf.load_model('./saves/experiments/{:s}/'.format(files[style]))\n",
    "custom_cost = {'NN': planners.get_trajopt_error_cost(cf)}"
   ]
  },
  {
   "cell_type": "code",
   "execution_count": 5,
   "metadata": {
    "collapsed": true
   },
   "outputs": [],
   "source": [
    "with open('./data/experiments/{:s}.pkl'.format(files[style]), 'rb') as f:\n",
    "    sess_vars = pickle.load(f)"
   ]
  },
  {
   "cell_type": "markdown",
   "metadata": {},
   "source": [
    "## Testing: 1, 4, 5"
   ]
  },
  {
   "cell_type": "code",
   "execution_count": 12,
   "metadata": {
    "collapsed": true
   },
   "outputs": [],
   "source": [
    "start_idx, end_idx = c.sg_test_idcs[5]\n",
    "start = c.configs[start_idx]\n",
    "end = c.configs[end_idx]"
   ]
  },
  {
   "cell_type": "code",
   "execution_count": 13,
   "metadata": {
    "collapsed": true
   },
   "outputs": [],
   "source": [
    "robot.SetActiveDOFValues(start)\n",
    "with env:\n",
    "    res0 = planners.trajopt_simple_plan(\n",
    "        env, robot, end,\n",
    "        custom_traj_costs=custom_cost,\n",
    "        joint_vel_coeff=sess_vars['joint_vel_coeff'])\n",
    "    traj0 = utils.waypoints_to_traj(\n",
    "        env, robot, res0.GetTraj(), sess_vars['speed'], None)"
   ]
  },
  {
   "cell_type": "code",
   "execution_count": 14,
   "metadata": {
    "collapsed": true
   },
   "outputs": [],
   "source": [
    "np.save('./exp_trajs/handover_hesitant_nn', res0.GetTraj())"
   ]
  },
  {
   "cell_type": "code",
   "execution_count": 7,
   "metadata": {
    "collapsed": true
   },
   "outputs": [],
   "source": [
    "robot.SetActiveDOFValues(start)"
   ]
  },
  {
   "cell_type": "code",
   "execution_count": 19,
   "metadata": {},
   "outputs": [
    {
     "data": {
      "text/plain": [
       "RaveCreateInterface(RaveGetEnvironment(1),InterfaceType.trajectory,'GenericTrajectory')"
      ]
     },
     "execution_count": 19,
     "metadata": {},
     "output_type": "execute_result"
    }
   ],
   "source": [
    "robot.ExecuteTrajectory(traj0)"
   ]
  },
  {
   "cell_type": "markdown",
   "metadata": {},
   "source": [
    "## Synthetic costs"
   ]
  },
  {
   "cell_type": "code",
   "execution_count": 6,
   "metadata": {
    "collapsed": true
   },
   "outputs": [],
   "source": [
    "def sad_cost_height(x):\n",
    "    val = 1. * feature_height(robot, x)\n",
    "    return val\n",
    "def sad_cost_orientation(x):\n",
    "    return .1 * feature_orientation(robot, x)\n",
    "\n",
    "synthetic_sad_costs = {\n",
    "    'height': sad_cost_height,\n",
    "    'orientation': sad_cost_orientation\n",
    "}\n",
    "\n",
    "def happy_cost_height(x):\n",
    "    val = 5 * feature_height2(robot, x)\n",
    "    return val\n",
    "def happy_cost_orientation(x):\n",
    "    return -10 * feature_orientation(robot, x)\n",
    "\n",
    "synthetic_happy_costs = {\n",
    "    'height': happy_cost_height,\n",
    "    'orientation': happy_cost_orientation\n",
    "}\n",
    "\n",
    "def hesitation_traj_cost(x):\n",
    "    x = x.reshape((10, 7))\n",
    "    return .4*np.linalg.norm(x[3] - x[2]) + .2 * np.linalg.norm(x[2] - x[1]) + .2 * np.linalg.norm(x[4] - x[2])\n",
    "\n",
    "synthetic_hesitation_costs = {\n",
    "    'hesitation': hesitation_traj_cost\n",
    "}"
   ]
  },
  {
   "cell_type": "code",
   "execution_count": 25,
   "metadata": {
    "collapsed": true
   },
   "outputs": [],
   "source": [
    "robot.SetActiveDOFValues(start)\n",
    "with env:\n",
    "    res2 = planners.trajopt_simple_plan(\n",
    "        env, robot, end,\n",
    "        custom_costs=synthetic_sad_costs)\n",
    "    traj2 = utils.waypoints_to_traj(\n",
    "        env, robot, res2.GetTraj(), sess_vars['speed'], None)"
   ]
  },
  {
   "cell_type": "code",
   "execution_count": 27,
   "metadata": {
    "collapsed": true
   },
   "outputs": [],
   "source": [
    "robot.SetActiveDOFValues(start)\n",
    "with env:\n",
    "    res2 = planners.trajopt_simple_plan(\n",
    "        env, robot, end,\n",
    "        custom_costs=synthetic_happy_costs)\n",
    "    traj2 = utils.waypoints_to_traj(\n",
    "        env, robot, res2.GetTraj(), sess_vars['speed'], None)"
   ]
  },
  {
   "cell_type": "code",
   "execution_count": 29,
   "metadata": {
    "collapsed": true
   },
   "outputs": [],
   "source": [
    "robot.SetActiveDOFValues(start)\n",
    "with env:\n",
    "    res2 = planners.trajopt_simple_plan(\n",
    "        env, robot, end,\n",
    "        custom_traj_costs=synthetic_hesitation_costs)\n",
    "    traj2 = utils.waypoints_to_traj(\n",
    "        env, robot, res2.GetTraj(), sess_vars['speed'], None)"
   ]
  },
  {
   "cell_type": "code",
   "execution_count": 53,
   "metadata": {
    "collapsed": true
   },
   "outputs": [],
   "source": [
    "robot.SetActiveDOFValues(start)"
   ]
  },
  {
   "cell_type": "code",
   "execution_count": 54,
   "metadata": {
    "scrolled": true
   },
   "outputs": [
    {
     "data": {
      "text/plain": [
       "RaveCreateInterface(RaveGetEnvironment(1),InterfaceType.trajectory,'GenericTrajectory')"
      ]
     },
     "execution_count": 54,
     "metadata": {},
     "output_type": "execute_result"
    }
   ],
   "source": [
    "robot.ExecuteTrajectory(traj2)"
   ]
  },
  {
   "cell_type": "markdown",
   "metadata": {},
   "source": [
    "## Default"
   ]
  },
  {
   "cell_type": "code",
   "execution_count": 27,
   "metadata": {
    "collapsed": true
   },
   "outputs": [],
   "source": [
    "robot.SetActiveDOFValues(start)\n",
    "with env:\n",
    "    res1 = planners.trajopt_simple_plan(\n",
    "        env, robot, end)\n",
    "    traj1 = utils.waypoints_to_traj(\n",
    "        env, robot, res1.GetTraj(), 0.5, None)"
   ]
  },
  {
   "cell_type": "code",
   "execution_count": 8,
   "metadata": {
    "collapsed": true
   },
   "outputs": [],
   "source": [
    "robot.SetActiveDOFValues(start)"
   ]
  },
  {
   "cell_type": "code",
   "execution_count": 17,
   "metadata": {},
   "outputs": [
    {
     "data": {
      "text/plain": [
       "RaveCreateInterface(RaveGetEnvironment(1),InterfaceType.trajectory,'GenericTrajectory')"
      ]
     },
     "execution_count": 17,
     "metadata": {},
     "output_type": "execute_result"
    }
   ],
   "source": [
    "robot.ExecuteTrajectory(traj1)"
   ]
  },
  {
   "cell_type": "code",
   "execution_count": null,
   "metadata": {
    "collapsed": true
   },
   "outputs": [],
   "source": []
  }
 ],
 "metadata": {
  "kernelspec": {
   "display_name": "tensorflow_python2",
   "language": "python",
   "name": "tensorflow_python2"
  },
  "language_info": {
   "codemirror_mode": {
    "name": "ipython",
    "version": 2
   },
   "file_extension": ".py",
   "mimetype": "text/x-python",
   "name": "python",
   "nbconvert_exporter": "python",
   "pygments_lexer": "ipython2",
   "version": "2.7.12"
  }
 },
 "nbformat": 4,
 "nbformat_minor": 2
}
